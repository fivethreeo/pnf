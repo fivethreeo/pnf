{
 "cells": [
  {
   "cell_type": "code",
   "execution_count": 1,
   "id": "25b419ab-d933-4427-b026-4adc9dc5f92a",
   "metadata": {},
   "outputs": [],
   "source": [
    "import json\n",
    "import re\n",
    "from pypnf import PointFigureChart\n",
    "import pandas as pd\n",
    "import numpy as np\n",
    "%matplotlib inline\n",
    "\n",
    "# Define your column names here\n",
    "column_names = ['open_time', 'open', 'high', 'low', 'close', 'volume', \n",
    "                'close_time', 'quote_volume', 'count', \n",
    "                'taker_buy_volume', 'taker_buy_quote_volume', 'ignore']\n"
   ]
  },
  {
   "cell_type": "code",
   "execution_count": 2,
   "id": "60c1900e-aadf-4f07-a53e-a38b2cba3b2b",
   "metadata": {},
   "outputs": [],
   "source": [
    "\n",
    "# Load the CSV data into a DataFrame, setting column names directly\n",
    "df = pd.read_csv('btcusdt.csv', names=column_names, header=None)\n",
    "\n",
    "df = df.rename(columns={'open_time': 'date'})\n",
    "\n",
    "\n",
    "# Convert the DataFrame to a dictionary of NumPy arrays\n",
    "data_dict = {col: np.array(df[col]) for col in df.columns}\n",
    "\n",
    "# Step 2: Create a Point and Figure Chart\n",
    "# This assumes you have a function or class PointFigureChart available.\n",
    "# You might need to adjust parameters or implementation details based on the actual library or your custom function.\n",
    "chart = PointFigureChart(data_dict, 'cl', 3, 3000, 'abs', '^SPX')\n"
   ]
  },
  {
   "cell_type": "code",
   "execution_count": 3,
   "id": "56f2f7ee-f468-41ed-a106-5e4cda6e5855",
   "metadata": {},
   "outputs": [],
   "source": [
    "#chart.get_trendlines()"
   ]
  },
  {
   "cell_type": "code",
   "execution_count": 4,
   "id": "c768bafe-459d-4f84-8856-600560f6c223",
   "metadata": {},
   "outputs": [],
   "source": [
    "#chart.get_breakouts()"
   ]
  },
  {
   "cell_type": "code",
   "execution_count": 5,
   "id": "f394a733-d673-405a-b694-24eed66d6b7b",
   "metadata": {},
   "outputs": [
    {
     "ename": "TypeError",
     "evalue": "'NoneType' object is not subscriptable",
     "output_type": "error",
     "traceback": [
      "\u001b[0;31m---------------------------------------------------------------------------\u001b[0m",
      "\u001b[0;31mTypeError\u001b[0m                                 Traceback (most recent call last)",
      "Cell \u001b[0;32mIn[5], line 1\u001b[0m\n\u001b[0;32m----> 1\u001b[0m \u001b[43mchart\u001b[49m\u001b[38;5;241;43m.\u001b[39;49m\u001b[43mshow\u001b[49m\u001b[43m(\u001b[49m\u001b[43m)\u001b[49m\n",
      "File \u001b[0;32m/usr/local/lib/python3.8/site-packages/pypnf/chart.py:2750\u001b[0m, in \u001b[0;36mPointFigureChart.show\u001b[0;34m(self)\u001b[0m\n\u001b[1;32m   2747\u001b[0m \u001b[38;5;28;01mdef\u001b[39;00m \u001b[38;5;21mshow\u001b[39m(\u001b[38;5;28mself\u001b[39m):\n\u001b[1;32m   2749\u001b[0m     \u001b[38;5;28;01mif\u001b[39;00m \u001b[38;5;28mself\u001b[39m\u001b[38;5;241m.\u001b[39mfig \u001b[38;5;129;01mis\u001b[39;00m \u001b[38;5;28;01mNone\u001b[39;00m:\n\u001b[0;32m-> 2750\u001b[0m         \u001b[38;5;28;43mself\u001b[39;49m\u001b[38;5;241;43m.\u001b[39;49m\u001b[43m_assemble_plot_chart\u001b[49m\u001b[43m(\u001b[49m\u001b[43m)\u001b[49m\n\u001b[1;32m   2752\u001b[0m     plt\u001b[38;5;241m.\u001b[39mshow()\n",
      "File \u001b[0;32m/usr/local/lib/python3.8/site-packages/pypnf/chart.py:2693\u001b[0m, in \u001b[0;36mPointFigureChart._assemble_plot_chart\u001b[0;34m(self)\u001b[0m\n\u001b[1;32m   2692\u001b[0m \u001b[38;5;28;01mdef\u001b[39;00m \u001b[38;5;21m_assemble_plot_chart\u001b[39m(\u001b[38;5;28mself\u001b[39m):\n\u001b[0;32m-> 2693\u001b[0m     \u001b[38;5;28;43mself\u001b[39;49m\u001b[38;5;241;43m.\u001b[39;49m\u001b[43m_prepare_variables_for_plotting\u001b[49m\u001b[43m(\u001b[49m\u001b[43m)\u001b[49m\n\u001b[1;32m   2694\u001b[0m     \u001b[38;5;28mself\u001b[39m\u001b[38;5;241m.\u001b[39m_create_figure_and_axis()\n\u001b[1;32m   2696\u001b[0m     \u001b[38;5;66;03m# plot grid\u001b[39;00m\n",
      "File \u001b[0;32m/usr/local/lib/python3.8/site-packages/pypnf/chart.py:2416\u001b[0m, in \u001b[0;36mPointFigureChart._prepare_variables_for_plotting\u001b[0;34m(self)\u001b[0m\n\u001b[1;32m   2413\u001b[0m \u001b[38;5;28mself\u001b[39m\u001b[38;5;241m.\u001b[39mplot_y_ticklabels \u001b[38;5;241m=\u001b[39m \u001b[38;5;28mself\u001b[39m\u001b[38;5;241m.\u001b[39mplot_boxscale[\u001b[38;5;28mself\u001b[39m\u001b[38;5;241m.\u001b[39mplot_y_ticks]\n\u001b[1;32m   2415\u001b[0m \u001b[38;5;66;03m# prepare x-ticks\u001b[39;00m\n\u001b[0;32m-> 2416\u001b[0m \u001b[38;5;28mself\u001b[39m\u001b[38;5;241m.\u001b[39mplot_column_label \u001b[38;5;241m=\u001b[39m \u001b[38;5;28;43mself\u001b[39;49m\u001b[38;5;241;43m.\u001b[39;49m\u001b[43mcolumn_labels\u001b[49m\u001b[43m[\u001b[49m\u001b[43m:\u001b[49m\u001b[43m:\u001b[49m\u001b[38;5;241;43m-\u001b[39;49m\u001b[38;5;28;43mself\u001b[39;49m\u001b[38;5;241;43m.\u001b[39;49m\u001b[43mx_label_step\u001b[49m\u001b[43m]\u001b[49m\n\u001b[1;32m   2418\u001b[0m x_ticks \u001b[38;5;241m=\u001b[39m np\u001b[38;5;241m.\u001b[39marange(np\u001b[38;5;241m.\u001b[39msize(\u001b[38;5;28mself\u001b[39m\u001b[38;5;241m.\u001b[39mcolumn_labels))\n\u001b[1;32m   2419\u001b[0m \u001b[38;5;28mself\u001b[39m\u001b[38;5;241m.\u001b[39mplot_column_index \u001b[38;5;241m=\u001b[39m x_ticks[::\u001b[38;5;241m-\u001b[39m\u001b[38;5;28mself\u001b[39m\u001b[38;5;241m.\u001b[39mx_label_step] \u001b[38;5;241m+\u001b[39m \u001b[38;5;241m0.5\u001b[39m\n",
      "\u001b[0;31mTypeError\u001b[0m: 'NoneType' object is not subscriptable"
     ]
    }
   ],
   "source": [
    "chart.show()"
   ]
  }
 ],
 "metadata": {
  "kernelspec": {
   "display_name": "Python 3 (ipykernel)",
   "language": "python",
   "name": "python3"
  },
  "language_info": {
   "codemirror_mode": {
    "name": "ipython",
    "version": 3
   },
   "file_extension": ".py",
   "mimetype": "text/x-python",
   "name": "python",
   "nbconvert_exporter": "python",
   "pygments_lexer": "ipython3",
   "version": "3.8.18"
  }
 },
 "nbformat": 4,
 "nbformat_minor": 5
}
