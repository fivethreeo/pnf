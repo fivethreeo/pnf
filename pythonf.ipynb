{
 "cells": [
  {
   "cell_type": "code",
   "execution_count": 1,
   "id": "25b419ab-d933-4427-b026-4adc9dc5f92a",
   "metadata": {},
   "outputs": [],
   "source": [
    "import json\n",
    "from pnf import PointFigureChart\n"
   ]
  },
  {
   "cell_type": "code",
   "execution_count": 2,
   "id": "60c1900e-aadf-4f07-a53e-a38b2cba3b2b",
   "metadata": {},
   "outputs": [],
   "source": [
    "\n",
    "# Step 1: Read the JSON file\n",
    "with open('./chart.json', 'r') as file:\n",
    "    data = json.load(file)\n",
    "\n",
    "# Step 2: Create a Point and Figure Chart\n",
    "# This assumes you have a function or class PointFigureChart available.\n",
    "# You might need to adjust parameters or implementation details based on the actual library or your custom function.\n",
    "chart = PointFigureChart(data, 'cl', 3, 'total', 'atr', '^SPX')\n"
   ]
  },
  {
   "cell_type": "code",
   "execution_count": 3,
   "id": "d51cd8c7-7409-42db-94aa-ab46299c70c2",
   "metadata": {},
   "outputs": [
    {
     "data": {
      "text/plain": [
       "array([[0, 0, 0, ..., 0, 0, 0],\n",
       "       [0, 0, 0, ..., 0, 0, 0],\n",
       "       [0, 0, 0, ..., 0, 0, 0],\n",
       "       ...,\n",
       "       [0, 0, 0, ..., 0, 0, 0],\n",
       "       [0, 0, 0, ..., 0, 0, 0],\n",
       "       [0, 0, 0, ..., 0, 0, 0]])"
      ]
     },
     "execution_count": 3,
     "metadata": {},
     "output_type": "execute_result"
    }
   ],
   "source": [
    "chart.matrix"
   ]
  },
  {
   "cell_type": "code",
   "execution_count": 4,
   "id": "3cabad67-02a0-494c-b846-1f75bc7e3c96",
   "metadata": {},
   "outputs": [],
   "source": [
    "with open('./mtx.json', 'w') as file:\n",
    "    json.dump(chart.matrix.tolist(), file, indent=2)"
   ]
  },
  {
   "cell_type": "code",
   "execution_count": 5,
   "id": "b002c98a-700e-4947-ba12-f841cc1ed24b",
   "metadata": {},
   "outputs": [
    {
     "data": {
      "text/plain": [
       "{'trend': array([ 1,  1,  1,  1,  1,  1, -1,  1, -1, -1, -1,  1, -1, -1, -1,  1,  1,\n",
       "         1,  1,  1, -1,  1]),\n",
       " 'type': array(['conti', 'reversal', 'conti', 'reversal', 'conti', 'conti',\n",
       "        'reversal', 'reversal', 'reversal', 'reversal', 'reversal',\n",
       "        'reversal', 'reversal', 'reversal', 'reversal', 'reversal',\n",
       "        'reversal', 'reversal', 'resistance', 'conti', 'reversal',\n",
       "        'reversal'], dtype='<U21'),\n",
       " 'column index': array([ 2,  6,  6, 10, 10, 12, 15, 16, 17, 17, 19, 20, 23, 25, 25, 26, 26,\n",
       "        26, 26, 26, 29, 30]),\n",
       " 'box index': array([27, 41, 44, 45, 47, 52, 51, 58, 45, 49, 44, 50, 45, 42, 44, 50, 51,\n",
       "        57, 59, 60, 56, 62]),\n",
       " 'hits': array([2, 2, 2, 2, 2, 2, 2, 2, 2, 2, 2, 2, 2, 2, 2, 2, 2, 2, 2, 2, 2, 2]),\n",
       " 'width': array([ 3,  3,  5,  3,  5,  3,  3,  3,  7,  3,  3,  3,  3,  7,  3,  3,  5,\n",
       "         7, 11, 15,  3,  3]),\n",
       " 'outer width': array([ 3,  4,  7,  4, 11, 13,  4,  4,  8,  6, 10,  4,  4, 16,  6,  5,  6,\n",
       "        10, 15, 27,  4,  4])}"
      ]
     },
     "execution_count": 5,
     "metadata": {},
     "output_type": "execute_result"
    }
   ],
   "source": [
    "#chart.get_breakouts()"
   ]
  },
  {
   "cell_type": "code",
   "execution_count": 6,
   "id": "94ba02f8-4dd7-4a56-ad61-225ad0d5f088",
   "metadata": {},
   "outputs": [
    {
     "data": {
      "text/plain": [
       "3.0638504375497218"
      ]
     },
     "execution_count": 6,
     "metadata": {},
     "output_type": "execute_result"
    }
   ],
   "source": [
    "chart.boxsize"
   ]
  },
  {
   "cell_type": "code",
   "execution_count": null,
   "id": "296b47d3-2c38-4d9d-bab1-ab910061385c",
   "metadata": {},
   "outputs": [],
   "source": []
  }
 ],
 "metadata": {
  "kernelspec": {
   "display_name": "Python 3 (ipykernel)",
   "language": "python",
   "name": "python3"
  },
  "language_info": {
   "codemirror_mode": {
    "name": "ipython",
    "version": 3
   },
   "file_extension": ".py",
   "mimetype": "text/x-python",
   "name": "python",
   "nbconvert_exporter": "python",
   "pygments_lexer": "ipython3",
   "version": "3.8.18"
  }
 },
 "nbformat": 4,
 "nbformat_minor": 5
}
