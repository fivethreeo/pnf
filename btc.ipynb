{
 "cells": [
  {
   "cell_type": "code",
   "execution_count": 1,
   "id": "25b419ab-d933-4427-b026-4adc9dc5f92a",
   "metadata": {},
   "outputs": [],
   "source": [
    "import json\n",
    "import re\n",
    "from pnf import PointFigureChart\n",
    "import pandas as pd\n",
    "import numpy as np\n",
    "\n",
    "# Define your column names here\n",
    "column_names = ['open_time', 'open', 'high', 'low', 'close', 'volume', \n",
    "                'close_time', 'quote_volume', 'count', \n",
    "                'taker_buy_volume', 'taker_buy_quote_volume', 'ignore']\n"
   ]
  },
  {
   "cell_type": "code",
   "execution_count": 2,
   "id": "60c1900e-aadf-4f07-a53e-a38b2cba3b2b",
   "metadata": {},
   "outputs": [],
   "source": [
    "\n",
    "# Load the CSV data into a DataFrame, setting column names directly\n",
    "df = pd.read_csv('btcusdt.csv', names=column_names, header=None)\n",
    "\n",
    "df = df.rename(columns={'open_time': 'date'})\n",
    "\n",
    "\n",
    "# Convert the DataFrame to a dictionary of NumPy arrays\n",
    "data_dict = {col: np.array(df[col]) for col in df.columns}\n",
    "\n",
    "# Step 2: Create a Point and Figure Chart\n",
    "# This assumes you have a function or class PointFigureChart available.\n",
    "# You might need to adjust parameters or implementation details based on the actual library or your custom function.\n",
    "chart = PointFigureChart(data_dict, 'cl', 3, 0.1, 'log', '^SPX')\n"
   ]
  },
  {
   "cell_type": "code",
   "execution_count": 3,
   "id": "d51cd8c7-7409-42db-94aa-ab46299c70c2",
   "metadata": {},
   "outputs": [
    {
     "data": {
      "text/plain": [
       "array([[0, 0, 0, ..., 0, 0, 0],\n",
       "       [0, 0, 0, ..., 0, 0, 0],\n",
       "       [0, 0, 0, ..., 0, 0, 0],\n",
       "       ...,\n",
       "       [0, 0, 0, ..., 0, 0, 0],\n",
       "       [0, 0, 0, ..., 0, 0, 0],\n",
       "       [0, 0, 0, ..., 0, 0, 0]])"
      ]
     },
     "execution_count": 3,
     "metadata": {},
     "output_type": "execute_result"
    }
   ],
   "source": [
    "chart.matrix"
   ]
  },
  {
   "cell_type": "code",
   "execution_count": 4,
   "id": "296b47d3-2c38-4d9d-bab1-ab910061385c",
   "metadata": {},
   "outputs": [],
   "source": [
    "with open('index.html', 'r') as file:\n",
    "    data = file.read()"
   ]
  },
  {
   "cell_type": "code",
   "execution_count": 5,
   "id": "f5f9d664-8d85-47dd-9079-81fb1f6bcc8f",
   "metadata": {},
   "outputs": [],
   "source": [
    "pattern = r'let matrix = \\[.*?\\];'\n",
    "data_str = json.dumps(chart.matrix.tolist())\n",
    "# Replace the matched pattern with the new data string\n",
    "data = re.sub(pattern, f'let matrix = {data_str};', data, flags=re.DOTALL)\n"
   ]
  },
  {
   "cell_type": "code",
   "execution_count": 6,
   "id": "18f64944-e58d-46d5-8432-b6bce91891a3",
   "metadata": {},
   "outputs": [],
   "source": [
    "with open('btc.html', 'w') as file:\n",
    "    file.write(data)"
   ]
  },
  {
   "cell_type": "code",
   "execution_count": null,
   "id": "56f2f7ee-f468-41ed-a106-5e4cda6e5855",
   "metadata": {},
   "outputs": [],
   "source": []
  }
 ],
 "metadata": {
  "kernelspec": {
   "display_name": "Python 3 (ipykernel)",
   "language": "python",
   "name": "python3"
  },
  "language_info": {
   "codemirror_mode": {
    "name": "ipython",
    "version": 3
   },
   "file_extension": ".py",
   "mimetype": "text/x-python",
   "name": "python",
   "nbconvert_exporter": "python",
   "pygments_lexer": "ipython3",
   "version": "3.8.18"
  }
 },
 "nbformat": 4,
 "nbformat_minor": 5
}
