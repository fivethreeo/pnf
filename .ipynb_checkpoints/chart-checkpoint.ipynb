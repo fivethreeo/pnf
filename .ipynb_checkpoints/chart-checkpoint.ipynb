{
 "cells": [
  {
   "cell_type": "code",
   "execution_count": 1,
   "id": "968c9e32-aca0-438c-b3fc-20b2c3081450",
   "metadata": {},
   "outputs": [],
   "source": [
    "import PointFigureChart from \"./chart.mjs\";"
   ]
  },
  {
   "cell_type": "code",
   "execution_count": 2,
   "id": "8247eb24-c082-43f2-9ff0-a7448e5f068c",
   "metadata": {},
   "outputs": [],
   "source": [
    "let buf = await Deno.readTextFile(\"./chart.json\");\n",
    "let data = JSON.parse(buf);\n",
    "let chart = new PointFigureChart(data, 'cl', 3, 1, 'log', '^SPX')\n",
    "\n"
   ]
  },
  {
   "cell_type": "code",
   "execution_count": 3,
   "id": "b841343a-7366-4526-862f-ada1ecd0808a",
   "metadata": {},
   "outputs": [],
   "source": [
    "//chart.getTrendLines(2, 'weak')"
   ]
  },
  {
   "cell_type": "code",
   "execution_count": 4,
   "id": "f132a0d8-1118-4bd4-ab01-8f9e525fcf59",
   "metadata": {},
   "outputs": [
    {
     "data": {
      "text/plain": [
       "{ nextBuy: \u001b[33m195.85\u001b[39m, nextSell: \u001b[33mNaN\u001b[39m }"
      ]
     },
     "execution_count": 4,
     "metadata": {},
     "output_type": "execute_result"
    }
   ],
   "source": [
    "chart.nextSimpleSignal()"
   ]
  },
  {
   "cell_type": "code",
   "execution_count": null,
   "id": "91fbb595-ff31-46b8-a291-5b83b7ed75a1",
   "metadata": {},
   "outputs": [],
   "source": []
  }
 ],
 "metadata": {
  "kernelspec": {
   "display_name": "Deno",
   "language": "typescript",
   "name": "deno"
  },
  "language_info": {
   "file_extension": ".ts",
   "mimetype": "text/x.typescript",
   "name": "typescript",
   "nb_converter": "script",
   "pygments_lexer": "typescript",
   "version": "5.3.3"
  }
 },
 "nbformat": 4,
 "nbformat_minor": 5
}
